{
 "cells": [
  {
   "cell_type": "markdown",
   "metadata": {},
   "source": [
    "Q1.1.Values(are integers or strings) \n",
    "'hello', -87.8, 6\n",
    "\n",
    "2.Expressions are mathematical operators - \n",
    "* - / + "
   ]
  },
  {
   "cell_type": "markdown",
   "metadata": {},
   "source": [
    "Q2.Difference between a string and a variable?\n",
    "\n",
    "1.A string is basically a sequence of characters or a value representing text, it is the information.\n",
    "\n",
    "2.Variable is where you can store information of any data type."
   ]
  },
  {
   "cell_type": "markdown",
   "metadata": {},
   "source": [
    "Q.3 Describe three different data types?\n",
    "\n",
    "1.Text - str\n",
    "\n",
    "2.Boolean - True or False \n",
    "\n",
    "3.Numeric - Int, float, complex"
   ]
  },
  {
   "cell_type": "markdown",
   "metadata": {},
   "source": [
    "#### What is an expression made up of, what do all expression do?\n",
    "* An expression is a combination of values, operators, variables and calls to functions. Expressions are something that are evaluated before you print them. They are representation of values. These expressions contain only things like identifiers, literals, operators. *Identifiers: they are name that can be used to define a class, function, variable module, or object is an identifier. \n",
    "*Literals: These are language-independent terms in Python and should exist independently in any programming language. In Python, there are the string literals, byte literals, integer literals, floating point literals, and imaginary literals. \n",
    "*Operators: In Python you can implement the following operations using the corresponding tokens.\n",
    "*Expression can help you create list comprehension, generator comprehension, conditional statements, dictionary comprehension etc.\n",
    "\n",
    "source- hackerrank"
   ]
  },
  {
   "cell_type": "markdown",
   "metadata": {},
   "source": [
    "#### Difference between statement and expression!\n",
    "* Expressions are something that can be printed or have an assigned value, while at the same time statements can't be printed without assigning them any value they provide condititons to expressions to solve a particular situation or a problem in a code. Statements can be like if else for while to help further the expressions evaluate according to their requirements."
   ]
  },
  {
   "cell_type": "code",
   "execution_count": 3,
   "metadata": {},
   "outputs": [],
   "source": [
    "bacon=22 # bacon contains the integer value 22"
   ]
  },
  {
   "cell_type": "code",
   "execution_count": 4,
   "metadata": {},
   "outputs": [
    {
     "data": {
      "text/plain": [
       "23"
      ]
     },
     "execution_count": 4,
     "metadata": {},
     "output_type": "execute_result"
    }
   ],
   "source": [
    "bacon+1"
   ]
  },
  {
   "cell_type": "code",
   "execution_count": 5,
   "metadata": {},
   "outputs": [
    {
     "data": {
      "text/plain": [
       "'spamspamspam'"
      ]
     },
     "execution_count": 5,
     "metadata": {},
     "output_type": "execute_result"
    }
   ],
   "source": [
    "'spam' + 'spamspam'"
   ]
  },
  {
   "cell_type": "code",
   "execution_count": 6,
   "metadata": {},
   "outputs": [
    {
     "data": {
      "text/plain": [
       "'spamspamspam'"
      ]
     },
     "execution_count": 6,
     "metadata": {},
     "output_type": "execute_result"
    }
   ],
   "source": [
    "'spam'*3"
   ]
  },
  {
   "cell_type": "markdown",
   "metadata": {},
   "source": [
    "Q8. Eggs is a valid variable while 100 isn't because an integer cannnot be put as a variable to store information, consider the following example \n",
    "As 100 is here is a literal which means they are used to assign a fixed value in the source code they can't be used to assign other values to them and can't be used as variables. They can be used as raw variables and data in variables or constants.\n",
    "* In python variables don't need to be declared in advance whereas so which brings us to the point that an integer 100 is already defined and can't be used as a variable on the other hand eggs can be used as Officially, variable names in Python can be any length and can consist of uppercase and lowercase letters (A-Z, a-z), digits (0-9), and the underscore character (_). An additional restriction is that, although a variable name can contain digits, the first character of a variable name cannot be a digit. "
   ]
  },
  {
   "cell_type": "code",
   "execution_count": 7,
   "metadata": {},
   "outputs": [
    {
     "ename": "SyntaxError",
     "evalue": "cannot assign to literal (<ipython-input-7-a9cf8ef34126>, line 1)",
     "output_type": "error",
     "traceback": [
      "\u001b[0;36m  File \u001b[0;32m\"<ipython-input-7-a9cf8ef34126>\"\u001b[0;36m, line \u001b[0;32m1\u001b[0m\n\u001b[0;31m    100 = 15\u001b[0m\n\u001b[0m    ^\u001b[0m\n\u001b[0;31mSyntaxError\u001b[0m\u001b[0;31m:\u001b[0m cannot assign to literal\n"
     ]
    }
   ],
   "source": [
    "100 = 15"
   ]
  },
  {
   "cell_type": "markdown",
   "metadata": {},
   "source": [
    "Q.9\n",
    "Three functions to get the integer, floating point, string version of value we can use int float and str"
   ]
  },
  {
   "cell_type": "code",
   "execution_count": 15,
   "metadata": {},
   "outputs": [
    {
     "data": {
      "text/plain": [
       "'i have eatten99burritos'"
      ]
     },
     "execution_count": 15,
     "metadata": {},
     "output_type": "execute_result"
    }
   ],
   "source": [
    "\"i have eatten\" +  str(99)  + 'burritos'\n",
    "# this causes an error because you can only concatinate same data types"
   ]
  }
 ],
 "metadata": {
  "kernelspec": {
   "display_name": "Python 3",
   "language": "python",
   "name": "python3"
  },
  "language_info": {
   "codemirror_mode": {
    "name": "ipython",
    "version": 3
   },
   "file_extension": ".py",
   "mimetype": "text/x-python",
   "name": "python",
   "nbconvert_exporter": "python",
   "pygments_lexer": "ipython3",
   "version": "3.8.5"
  }
 },
 "nbformat": 4,
 "nbformat_minor": 4
}
